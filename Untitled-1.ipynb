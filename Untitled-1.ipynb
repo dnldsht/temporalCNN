{
 "cells": [
  {
   "cell_type": "code",
   "execution_count": 1,
   "metadata": {},
   "outputs": [],
   "source": [
    "import csv\n",
    "import statistics\n",
    "\n",
    "def get_result(dir, arch, seed, field=1):\n",
    "  try:\n",
    "    with open(f\"{dir}/Archi{arch}/resultOA-SB-train-{seed}-noarchi{arch}-norun0.csv\") as f:\n",
    "      reader = csv.reader(f)\n",
    "      next(reader)\n",
    "      a = next(reader)\n",
    "    if field == 1:\n",
    "      return float(a[1]) * 100\n",
    "    else: \n",
    "      return float(a[field])\n",
    "  except:\n",
    "      return 0j\n",
    "def mean_std(values):\n",
    "  mean = statistics.mean(values)\n",
    "  confidence = statistics.stdev(values)\n",
    "  return round(mean, 2), round(confidence,2)\n",
    "\n",
    "def results_for_arch(dir, architectures, seeds=[23, 27863, 89,196], train_time =False):\n",
    "  print(\"\\\\begin{table}[!htbp]\")\n",
    "  print(\" \\centering\")\n",
    "  print(\"  \\\\begin{tabular}{lr}\")\n",
    "  print(\"  Model                  & No imputation         & Pre imputation             \\\\\\\\[0.2cm]\")\n",
    "  print(\"  \\hline \\\\\\\\[-0.2cm]\")\n",
    "\n",
    "  caption = f\"{dir}\"\n",
    "\n",
    "  for i, name in architectures.items():\n",
    "    name = name.replace('_', ' + ')\n",
    "\n",
    "    m,s = mean_std([get_result(f\"{dir}-zeros-architecture\", i, seed) for seed in seeds])\n",
    "    m1,s1 = mean_std([get_result(f\"{dir}-architecture\", i, seed) for seed in seeds])\n",
    "    rest = ''\n",
    "    if train_time:\n",
    "     a,st =  mean_std([get_result(f\"{dir}-architecture\", i, seed, 3) for seed in seeds] + [get_result(f\"{dir}-architecture\", i, seed, 3) for seed in seeds])\n",
    "     rest = f\"\\t & {round((a+st)/60)}min\"\n",
    "\n",
    "    \n",
    "    print(f\"   {name}  \\t & ${m:.2f} \\pm {s:.2f}$ \\t & ${m1:.2f} \\pm {s1:.2f}${rest}\\\\\\\\\")\n",
    "  print(\"  \\end{tabular}\")\n",
    "  print(f\"  \\caption{{{caption}}}\")\n",
    "  print(\"\\end{table}\")\n",
    "  "
   ]
  },
  {
   "cell_type": "code",
   "execution_count": 2,
   "metadata": {},
   "outputs": [
    {
     "name": "stdout",
     "output_type": "stream",
     "text": [
      "\\begin{table}[!htbp]\n",
      " \\centering\n",
      "  \\begin{tabular}{lr}\n",
      "  Model                  & No imputation         & Pre imputation             \\\\[0.2cm]\n",
      "  \\hline \\\\[-0.2cm]\n",
      "   1CONV256 + 1FC64   \t & $93.39 \\pm 0.74$ \t & $93.12 \\pm 0.57$\\\\\n",
      "   2CONV128 + 1FC128  \t & $93.57 \\pm 1.11$ \t & $92.93 \\pm 1.28$\\\\\n",
      "   3CONV64 + 1FC256   \t & $93.32 \\pm 0.84$ \t & $91.32 \\pm 1.50$\\\\\n",
      "   4CONV32 + 1FC512   \t & $92.33 \\pm 1.32$ \t & $90.45 \\pm 1.98$\\\\\n",
      "   5CONV16 + 1FC1024  \t & $91.20 \\pm 0.94$ \t & $88.20 \\pm 2.95$\\\\\n",
      "   6CONV8 + 1FC2048   \t & $87.83 \\pm 2.89$ \t & $88.58 \\pm 2.90$\\\\\n",
      "  \\end{tabular}\n",
      "  \\caption{depth}\n",
      "\\end{table}\n"
     ]
    }
   ],
   "source": [
    "architectures = {\n",
    "  1: '1CONV256_1FC64 ',\n",
    "\t2: '2CONV128_1FC128',\n",
    "\t3: '3CONV64_1FC256 ',\n",
    "\t4: '4CONV32_1FC512 ',\n",
    "\t5: '5CONV16_1FC1024',\n",
    "\t6: '6CONV8_1FC2048 '\n",
    "\t#7: '1FC5115        ',\n",
    "}\n",
    "results_for_arch(\"depth\", architectures, seeds=[89,196, 23, 27863])\n"
   ]
  },
  {
   "cell_type": "code",
   "execution_count": 3,
   "metadata": {},
   "outputs": [
    {
     "name": "stdout",
     "output_type": "stream",
     "text": [
      "\\begin{table}[!htbp]\n",
      " \\centering\n",
      "  \\begin{tabular}{lr}\n",
      "  Model                  & No imputation         & Pre imputation             \\\\[0.2cm]\n",
      "  \\hline \\\\[-0.2cm]\n",
      "   3CONV16 + 1FC256    \t & $92.44 \\pm 0.83$ \t & $91.62 \\pm 1.41$\\\\\n",
      "   3CONV32 + 1FC256    \t & $93.52 \\pm 0.68$ \t & $92.16 \\pm 0.68$\\\\\n",
      "   3CONV64 + 1FC256    \t & $92.94 \\pm 1.29$ \t & $92.55 \\pm 0.60$\\\\\n",
      "   3CONV128 + 1FC256   \t & $92.26 \\pm 2.84$ \t & $92.13 \\pm 2.35$\\\\\n",
      "   3CONV256 + 1FC256   \t & $91.66 \\pm 1.96$ \t & $92.04 \\pm 0.87$\\\\\n",
      "   3CONV512 + 1FC256   \t & $91.97 \\pm 3.23$ \t & $92.75 \\pm 0.57$\\\\\n",
      "   3CONV1024 + 1FC256  \t & $92.76 \\pm 1.46$ \t & $93.39 \\pm 0.54$\\\\\n",
      "  \\end{tabular}\n",
      "  \\caption{complexity}\n",
      "\\end{table}\n"
     ]
    }
   ],
   "source": [
    "architectures = {\n",
    "  0: '3CONV16_1FC256  ',\n",
    "\t1: '3CONV32_1FC256  ',\n",
    "\t2: '3CONV64_1FC256  ',\n",
    "\t6: '3CONV128_1FC256 ',\n",
    "\t3: '3CONV256_1FC256 ',\n",
    "\t4: '3CONV512_1FC256 ',\n",
    "\t5: '3CONV1024_1FC256',\n",
    "}\n",
    "results_for_arch(\"complexity\", architectures, seeds=[89,196, 23, 27863])"
   ]
  },
  {
   "cell_type": "code",
   "execution_count": 14,
   "metadata": {},
   "outputs": [
    {
     "name": "stdout",
     "output_type": "stream",
     "text": [
      "\\begin{table}[!htbp]\n",
      " \\centering\n",
      "  \\begin{tabular}{lr}\n",
      "  Model                  & No imputation         & Pre imputation             \\\\[0.2cm]\n",
      "  \\hline \\\\[-0.2cm]\n",
      "   02CONV16 + 1FC256    \t & $0.00 \\pm 0.00$ \t & $91.81 \\pm 1.76$\\\\\n",
      "   12CONV32 + 1FC256    \t & $0.00 \\pm 0.00$ \t & $90.43 \\pm 4.09$\\\\\n",
      "   22CONV64 + 1FC256    \t & $0.00 \\pm 0.00$ \t & $90.22 \\pm 3.46$\\\\\n",
      "   62CONV128 + 1FC256   \t & $0.00 \\pm 0.00$ \t & $0.00 \\pm 0.00$\\\\\n",
      "   32CONV256 + 1FC256   \t & $0.00 \\pm 0.00$ \t & $92.78 \\pm 1.29$\\\\\n",
      "   42CONV512 + 1FC256   \t & $0.00 \\pm 0.00$ \t & $89.32 \\pm 4.08$\\\\\n",
      "   52CONV1024 + 1FC256  \t & $0.00 \\pm 0.00$ \t & $0.00 \\pm 0.00$\\\\\n",
      "  \\end{tabular}\n",
      "  \\caption{complexity-2}\n",
      "\\end{table}\n"
     ]
    }
   ],
   "source": [
    "architectures = {\n",
    "  0: '2CONV16_1FC256  ',\n",
    "\t1: '2CONV32_1FC256  ',\n",
    "\t2: '2CONV64_1FC256  ',\n",
    "\t6: '2CONV128_1FC256 ',\n",
    "\t3: '2CONV256_1FC256 ',\n",
    "\t4: '2CONV512_1FC256 ',\n",
    "\t5: '2CONV1024_1FC256',\n",
    "}\n",
    "results_for_arch(\"complexity-2\", architectures)"
   ]
  },
  {
   "cell_type": "code",
   "execution_count": 6,
   "metadata": {},
   "outputs": [
    {
     "name": "stdout",
     "output_type": "stream",
     "text": [
      "\\begin{table}[!htbp]\n",
      " \\centering\n",
      "  \\begin{tabular}{lr}\n",
      "  Model                  & No imputation         & Pre imputation             \\\\[0.2cm]\n",
      "  \\hline \\\\[-0.2cm]\n"
     ]
    },
    {
     "ename": "TypeError",
     "evalue": "don't know how to coerce float and complex",
     "output_type": "error",
     "traceback": [
      "\u001b[0;31m---------------------------------------------------------------------------\u001b[0m",
      "\u001b[0;31mTypeError\u001b[0m                                 Traceback (most recent call last)",
      "Cell \u001b[0;32mIn[6], line 7\u001b[0m\n\u001b[1;32m      1\u001b[0m architectures \u001b[39m=\u001b[39m {\t\t\n\u001b[1;32m      2\u001b[0m \t\t\u001b[39m1\u001b[39m: \u001b[39m\"\u001b[39m\u001b[39m16\u001b[39m\u001b[39m\"\u001b[39m,\t\t\n\u001b[1;32m      3\u001b[0m \t\t\u001b[39m2\u001b[39m: \u001b[39m\"\u001b[39m\u001b[39m32\u001b[39m\u001b[39m\"\u001b[39m,\t\t\n\u001b[1;32m      4\u001b[0m \t\t\u001b[39m3\u001b[39m: \u001b[39m\"\u001b[39m\u001b[39m64\u001b[39m\u001b[39m\"\u001b[39m,\t\t\n\u001b[1;32m      5\u001b[0m \t\t\u001b[39m4\u001b[39m: \u001b[39m\"\u001b[39m\u001b[39m128\u001b[39m\u001b[39m\"\u001b[39m\n\u001b[1;32m      6\u001b[0m }\n\u001b[0;32m----> 7\u001b[0m results_for_arch(\u001b[39m\"\u001b[39;49m\u001b[39mbatchsize\u001b[39;49m\u001b[39m\"\u001b[39;49m, architectures, seeds\u001b[39m=\u001b[39;49m[\u001b[39m89\u001b[39;49m,\u001b[39m196\u001b[39;49m, \u001b[39m23\u001b[39;49m, \u001b[39m27863\u001b[39;49m], train_time\u001b[39m=\u001b[39;49m\u001b[39mTrue\u001b[39;49;00m)\n",
      "Cell \u001b[0;32mIn[1], line 33\u001b[0m, in \u001b[0;36mresults_for_arch\u001b[0;34m(dir, architectures, seeds, train_time)\u001b[0m\n\u001b[1;32m     30\u001b[0m \u001b[39mfor\u001b[39;00m i, name \u001b[39min\u001b[39;00m architectures\u001b[39m.\u001b[39mitems():\n\u001b[1;32m     31\u001b[0m   name \u001b[39m=\u001b[39m name\u001b[39m.\u001b[39mreplace(\u001b[39m'\u001b[39m\u001b[39m_\u001b[39m\u001b[39m'\u001b[39m, \u001b[39m'\u001b[39m\u001b[39m + \u001b[39m\u001b[39m'\u001b[39m)\n\u001b[0;32m---> 33\u001b[0m   m,s \u001b[39m=\u001b[39m mean_std([get_result(\u001b[39mf\u001b[39;49m\u001b[39m\"\u001b[39;49m\u001b[39m{\u001b[39;49;00m\u001b[39mdir\u001b[39;49m\u001b[39m}\u001b[39;49;00m\u001b[39m-zeros-architecture\u001b[39;49m\u001b[39m\"\u001b[39;49m, i, seed) \u001b[39mfor\u001b[39;49;00m seed \u001b[39min\u001b[39;49;00m seeds])\n\u001b[1;32m     34\u001b[0m   m1,s1 \u001b[39m=\u001b[39m mean_std([get_result(\u001b[39mf\u001b[39m\u001b[39m\"\u001b[39m\u001b[39m{\u001b[39;00m\u001b[39mdir\u001b[39m\u001b[39m}\u001b[39;00m\u001b[39m-architecture\u001b[39m\u001b[39m\"\u001b[39m, i, seed) \u001b[39mfor\u001b[39;00m seed \u001b[39min\u001b[39;00m seeds])\n\u001b[1;32m     35\u001b[0m   rest \u001b[39m=\u001b[39m \u001b[39m'\u001b[39m\u001b[39m'\u001b[39m\n",
      "Cell \u001b[0;32mIn[1], line 17\u001b[0m, in \u001b[0;36mmean_std\u001b[0;34m(values)\u001b[0m\n\u001b[1;32m     16\u001b[0m \u001b[39mdef\u001b[39;00m \u001b[39mmean_std\u001b[39m(values):\n\u001b[0;32m---> 17\u001b[0m   mean \u001b[39m=\u001b[39m statistics\u001b[39m.\u001b[39;49mmean(values)\n\u001b[1;32m     18\u001b[0m   confidence \u001b[39m=\u001b[39m statistics\u001b[39m.\u001b[39mstdev(values)\n\u001b[1;32m     19\u001b[0m   \u001b[39mreturn\u001b[39;00m \u001b[39mround\u001b[39m(mean, \u001b[39m2\u001b[39m), \u001b[39mround\u001b[39m(confidence,\u001b[39m2\u001b[39m)\n",
      "File \u001b[0;32m/usr/lib/python3.10/statistics.py:329\u001b[0m, in \u001b[0;36mmean\u001b[0;34m(data)\u001b[0m\n\u001b[1;32m    327\u001b[0m \u001b[39mif\u001b[39;00m n \u001b[39m<\u001b[39m \u001b[39m1\u001b[39m:\n\u001b[1;32m    328\u001b[0m     \u001b[39mraise\u001b[39;00m StatisticsError(\u001b[39m'\u001b[39m\u001b[39mmean requires at least one data point\u001b[39m\u001b[39m'\u001b[39m)\n\u001b[0;32m--> 329\u001b[0m T, total, count \u001b[39m=\u001b[39m _sum(data)\n\u001b[1;32m    330\u001b[0m \u001b[39massert\u001b[39;00m count \u001b[39m==\u001b[39m n\n\u001b[1;32m    331\u001b[0m \u001b[39mreturn\u001b[39;00m _convert(total \u001b[39m/\u001b[39m n, T)\n",
      "File \u001b[0;32m/usr/lib/python3.10/statistics.py:187\u001b[0m, in \u001b[0;36m_sum\u001b[0;34m(data)\u001b[0m\n\u001b[1;32m    185\u001b[0m T \u001b[39m=\u001b[39m \u001b[39mint\u001b[39m\n\u001b[1;32m    186\u001b[0m \u001b[39mfor\u001b[39;00m typ, values \u001b[39min\u001b[39;00m groupby(data, \u001b[39mtype\u001b[39m):\n\u001b[0;32m--> 187\u001b[0m     T \u001b[39m=\u001b[39m _coerce(T, typ)  \u001b[39m# or raise TypeError\u001b[39;00m\n\u001b[1;32m    188\u001b[0m     \u001b[39mfor\u001b[39;00m n, d \u001b[39min\u001b[39;00m \u001b[39mmap\u001b[39m(_exact_ratio, values):\n\u001b[1;32m    189\u001b[0m         count \u001b[39m+\u001b[39m\u001b[39m=\u001b[39m \u001b[39m1\u001b[39m\n",
      "File \u001b[0;32m/usr/lib/python3.10/statistics.py:237\u001b[0m, in \u001b[0;36m_coerce\u001b[0;34m(T, S)\u001b[0m\n\u001b[1;32m    235\u001b[0m \u001b[39m# Any other combination is disallowed.\u001b[39;00m\n\u001b[1;32m    236\u001b[0m msg \u001b[39m=\u001b[39m \u001b[39m\"\u001b[39m\u001b[39mdon\u001b[39m\u001b[39m'\u001b[39m\u001b[39mt know how to coerce \u001b[39m\u001b[39m%s\u001b[39;00m\u001b[39m and \u001b[39m\u001b[39m%s\u001b[39;00m\u001b[39m\"\u001b[39m\n\u001b[0;32m--> 237\u001b[0m \u001b[39mraise\u001b[39;00m \u001b[39mTypeError\u001b[39;00m(msg \u001b[39m%\u001b[39m (T\u001b[39m.\u001b[39m\u001b[39m__name__\u001b[39m, S\u001b[39m.\u001b[39m\u001b[39m__name__\u001b[39m))\n",
      "\u001b[0;31mTypeError\u001b[0m: don't know how to coerce float and complex"
     ]
    }
   ],
   "source": [
    "architectures = {\t\t\n",
    "\t\t1: \"16\",\t\t\n",
    "\t\t2: \"32\",\t\t\n",
    "\t\t3: \"64\",\t\t\n",
    "\t\t4: \"128\"\n",
    "}\n",
    "results_for_arch(\"batchsize\", architectures, seeds=[89,196, 23, 27863], train_time=True)\n"
   ]
  },
  {
   "cell_type": "code",
   "execution_count": 10,
   "metadata": {},
   "outputs": [
    {
     "name": "stdout",
     "output_type": "stream",
     "text": [
      "\\begin{table}[!htbp]\n",
      " \\centering\n",
      "  \\begin{tabular}{lr}\n",
      "  Model                  & No imputation         & Pre imputation             \\\\[0.2cm]\n",
      "  \\hline \\\\[-0.2cm]\n",
      "   3CONV64C + 1FC256 + GAP + f3fd  \t & $89.61 \\pm 3.55$ \t & $91.10 \\pm 0.08$\\\\\n",
      "   3CONV64C + 1FC256 + GAP + f5fd  \t & $91.41 \\pm 0.12$ \t & $88.13 \\pm 5.74$\\\\\n",
      "   3CONV64C + 1FC256 + GAP + f9fd  \t & $90.09 \\pm 1.62$ \t & $90.22 \\pm 0.25$\\\\\n",
      "   3CONV64C + 1FC256 + GAP + f17fd  \t & $90.43 \\pm 3.00$ \t & $90.10 \\pm 4.35$\\\\\n",
      "   3CONV64C + 1FC256 + GAP + f33fd  \t & $91.45 \\pm 0.86$ \t & $90.01 \\pm 0.81$\\\\\n",
      "   3CONV2MP + 1FC256 + f33 + 17 + 9fd  \t & $92.10 \\pm 1.87$ \t & $89.73 \\pm 2.23$\\\\\n",
      "   3CONV2MP + 1FC256 + f17 + 9 + 5fd  \t & $89.35 \\pm 0.55$ \t & $89.11 \\pm 3.84$\\\\\n",
      "   3CONV2MP + 1FC256 + f9 + 5 + 3fd  \t & $91.23 \\pm 4.56$ \t & $91.33 \\pm 1.52$\\\\\n",
      "   3CONV2MP + 1FC256 + f5 + 3 + 1fd,  \t & $91.71 \\pm 3.48$ \t & $93.07 \\pm 0.87$\\\\\n",
      "   3CONV2MP + 1FC256 + f3 + 1 + 1fd,  \t & $93.10 \\pm 3.08$ \t & $91.45 \\pm 0.06$\\\\\n",
      "   3CONV2AP + 1FC256 + f33 + 17 + 9fd  \t & $90.41 \\pm 2.94$ \t & $91.45 \\pm 1.15$\\\\\n",
      "   3CONV2AP + 1FC256 + f17 + 9 + 5fd  \t & $93.61 \\pm 0.23$ \t & $92.78 \\pm 1.51$\\\\\n",
      "   3CONV2AP + 1FC256 + f9 + 5 + 3fd  \t & $91.56 \\pm 0.81$ \t & $86.86 \\pm 8.06$\\\\\n",
      "   3CONV2AP + 1FC256 + f5 + 3 + 1fd,  \t & $92.72 \\pm 0.34$ \t & $92.23 \\pm 2.47$\\\\\n",
      "   3CONV2AP + 1FC256 + f3 + 1 + 1fd,  \t & $93.71 \\pm 0.61$ \t & $92.74 \\pm 1.26$\\\\\n",
      "   3CONV2MP + 1FC256 + GAP + f33 + 17 + 9fd  \t & $91.10 \\pm 1.39$ \t & $90.75 \\pm 0.55$\\\\\n",
      "   3CONV2MP + 1FC256 + GAP + f17 + 9 + 5fd  \t & $91.20 \\pm 1.38$ \t & $91.05 \\pm 0.56$\\\\\n",
      "   3CONV2MP + 1FC256 + GAP + f9 + 5 + 3fd  \t & $90.15 \\pm 1.41$ \t & $92.37 \\pm 0.65$\\\\\n",
      "   3CONV2MP + 1FC256 + GAP + f5 + 3 + 1fd,  \t & $91.90 \\pm 0.45$ \t & $89.69 \\pm 2.57$\\\\\n",
      "   3CONV2MP + 1FC256 + GAP + f3 + 1 + 1fd,  \t & $90.76 \\pm 3.19$ \t & $89.32 \\pm 2.65$\\\\\n",
      "   3CONV2AP + 1FC256 + GAP + f33 + 17 + 9fd  \t & $86.05 \\pm 5.55$ \t & $91.16 \\pm 0.47$\\\\\n",
      "   3CONV2AP + 1FC256 + GAP + f17 + 9 + 5fd  \t & $89.74 \\pm 2.89$ \t & $91.74 \\pm 2.30$\\\\\n",
      "   3CONV2AP + 1FC256 + GAP + f9 + 5 + 3fd  \t & $91.35 \\pm 0.53$ \t & $92.49 \\pm 0.36$\\\\\n",
      "   3CONV2AP + 1FC256 + GAP + f5 + 3 + 1fd,  \t & $90.17 \\pm 1.79$ \t & $91.64 \\pm 2.40$\\\\\n",
      "   3CONV2AP + 1FC256 + GAP + f3 + 1 + 1fd  \t & $90.59 \\pm 3.77$ \t & $90.61 \\pm 1.05$\\\\\n",
      "  \\end{tabular}\n",
      "  \\caption{pooling}\n",
      "\\end{table}\n"
     ]
    }
   ],
   "source": [
    "architectures = {\n",
    " \t\t0: '3CONV64C_1FC256_GAP_f3fd',\n",
    "\t\t1: '3CONV64C_1FC256_GAP_f5fd',\n",
    "\t\t2: '3CONV64C_1FC256_GAP_f9fd',\n",
    "\t\t3: '3CONV64C_1FC256_GAP_f17fd',\n",
    "\t\t4: '3CONV64C_1FC256_GAP_f33fd',\n",
    "\n",
    "\t\t10: '3CONV2MP_1FC256_f33_17_9fd',\n",
    "\t\t11: '3CONV2MP_1FC256_f17_9_5fd',\n",
    "\t\t12: '3CONV2MP_1FC256_f9_5_3fd',\n",
    "\t\t13: '3CONV2MP_1FC256_f5_3_1fd,',\n",
    "\t\t14: '3CONV2MP_1FC256_f3_1_1fd,',\n",
    "\n",
    "\t\t15: '3CONV2AP_1FC256_f33_17_9fd',\n",
    "\t\t16: '3CONV2AP_1FC256_f17_9_5fd',\n",
    "\t\t17: '3CONV2AP_1FC256_f9_5_3fd',\n",
    "\t\t18: '3CONV2AP_1FC256_f5_3_1fd,',\n",
    "\t\t19: '3CONV2AP_1FC256_f3_1_1fd,',\n",
    "\n",
    "\t\t20: '3CONV2MP_1FC256_GAP_f33_17_9fd',\n",
    "\t\t21: '3CONV2MP_1FC256_GAP_f17_9_5fd',\n",
    "\t\t22: '3CONV2MP_1FC256_GAP_f9_5_3fd',\n",
    "\t\t23: '3CONV2MP_1FC256_GAP_f5_3_1fd,',\n",
    "\t\t24: '3CONV2MP_1FC256_GAP_f3_1_1fd,',\n",
    "\t\t\n",
    "\t\t25: '3CONV2AP_1FC256_GAP_f33_17_9fd',\n",
    "\t\t26: '3CONV2AP_1FC256_GAP_f17_9_5fd',\n",
    "\t\t27: '3CONV2AP_1FC256_GAP_f9_5_3fd',\n",
    "\t\t28: '3CONV2AP_1FC256_GAP_f5_3_1fd,',\n",
    "\t\t29: '3CONV2AP_1FC256_GAP_f3_1_1fd',\n",
    "}\n",
    "results_for_arch(\"pooling\", architectures, seeds=[89,196])"
   ]
  },
  {
   "cell_type": "code",
   "execution_count": 30,
   "metadata": {},
   "outputs": [
    {
     "data": {
      "text/plain": [
       "{'GAP': {'acc': [90.34, 89.83, 90.19, 88.93, 90.66],\n",
       "  'std': [0.82, 3.11, 0.19, 4.28, 0.76]},\n",
       " 'MP': {'acc': [89.72, 87.89, 91.94, 93.1, 91.76],\n",
       "  'std': [1.58, 3.44, 1.5, 0.61, 0.54]},\n",
       " 'AP': {'acc': [91.62, 92.75, 88.62, 92.27, 93.19],\n",
       "  'std': [0.86, 1.07, 6.46, 1.75, 1.18]},\n",
       " 'MP+GAP': {'acc': [90.04, 91.17, 92.13, 88.67, 90.5],\n",
       "  'std': [1.28, 0.45, 0.62, 2.53, 2.77]},\n",
       " 'AP+GAP': {'acc': [91.79, 91.76, 90.33, 91.35, 90.62],\n",
       "  'std': [1.13, 1.63, 3.75, 1.77, 0.74]}}"
      ]
     },
     "execution_count": 30,
     "metadata": {},
     "output_type": "execute_result"
    }
   ],
   "source": [
    "architectures = {\n",
    "\t4: ('GAP',33),\n",
    "\t3: ('GAP',17),\n",
    "\t2: ('GAP',9),\n",
    "\t1: ('GAP',5),\n",
    "\t0: ('GAP',3),\n",
    "\n",
    "\t10: ('MP', 33),\n",
    "\t11: ('MP', 17),\n",
    "\t12: ('MP', 9),\n",
    "\t13: ('MP', 5),\n",
    "\t14: ('MP', 3),\n",
    "\n",
    "\t15: ('AP', 33),\n",
    "\t16: ('AP', 17),\n",
    "\t17: ('AP', 9),\n",
    "\t18: ('AP', 5),\n",
    "\t19: ('AP', 3),\n",
    "\n",
    "\t20: ('MP+GAP', 33),\n",
    "\t21: ('MP+GAP', 17),\n",
    "\t22: ('MP+GAP', 9),\n",
    "\t23: ('MP+GAP', 5),\n",
    "\t24: ('MP+GAP', 3),\n",
    "\t\n",
    "\t25: ('AP+GAP',33),\n",
    "\t26: ('AP+GAP',17),\n",
    "\t27: ('AP+GAP',9),\n",
    "\t28: ('AP+GAP',5),\n",
    "\t29: ('AP+GAP',3),\n",
    "}\n",
    "\n",
    "seeds = [89,196,23]\n",
    "res = {}\n",
    "for i, (name, f) in architectures.items():\n",
    "\tm1,s1 = mean_std([get_result(f\"pooling-architecture\", i, seed) for seed in seeds])\n",
    "\tif not name in res:\n",
    "\t\tres[name]={'acc': [], 'std': []}\n",
    "\tres[name]['acc'].append(m1)\n",
    "\tres[name]['std'].append(s1)\n",
    "res\t\n",
    "  "
   ]
  }
 ],
 "metadata": {
  "kernelspec": {
   "display_name": "Python 3 (ipykernel)",
   "language": "python",
   "name": "python3"
  },
  "language_info": {
   "codemirror_mode": {
    "name": "ipython",
    "version": 3
   },
   "file_extension": ".py",
   "mimetype": "text/x-python",
   "name": "python",
   "nbconvert_exporter": "python",
   "pygments_lexer": "ipython3",
   "version": "3.10.7"
  },
  "orig_nbformat": 4,
  "vscode": {
   "interpreter": {
    "hash": "3a5c8603817eaba908afccabe669a746724877aa0b89b99a309e639acf04cb97"
   }
  }
 },
 "nbformat": 4,
 "nbformat_minor": 2
}
